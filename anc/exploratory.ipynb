{
 "cells": [
  {
   "cell_type": "code",
   "execution_count": 1,
   "metadata": {
    "collapsed": false
   },
   "outputs": [
    {
     "data": {
      "text/html": [
       "<script charset=\"utf-8\">(function ($, undefined) {\n",
       "\n",
       "    function createElem(tag, attr, content) {\n",
       "\t// TODO: remove jQuery dependency\n",
       "\tvar el = $(\"<\" + tag + \"/>\").attr(attr);\n",
       "\tif (content) {\n",
       "\t    el.append(content);\n",
       "\t}\n",
       "\treturn el[0];\n",
       "    }\n",
       "\n",
       "    // A widget must expose an id field which identifies it to the backend,\n",
       "    // an elem attribute which is will be added to the DOM, and\n",
       "    // a getState() method which returns the value to be sent to the backend\n",
       "    // a sendUpdate() method which sends its current value to the backend\n",
       "    var Widget = {\n",
       "\tid: undefined,\n",
       "\telem: undefined,\n",
       "\tlabel: undefined,\n",
       "\tgetState: function () {\n",
       "\t    return this.elem.value;\n",
       "\t},\n",
       "\tsendUpdate: undefined\n",
       "    };\n",
       "\n",
       "    var Slider = function (typ, id, init) {\n",
       "\tvar attr = { type:  \"range\",\n",
       "\t\t     value: init.value,\n",
       "\t\t     min:   init.min,\n",
       "\t\t     max:   init.max,\n",
       "\t\t     step:  init.step },\n",
       "\t    elem = createElem(\"input\", attr),\n",
       "\t    self = this;\n",
       "\n",
       "\telem.onchange = function () {\n",
       "\t    self.sendUpdate();\n",
       "\t}\n",
       "\n",
       "\tthis.id = id;\n",
       "\tthis.elem = elem;\n",
       "\tthis.label = init.label;\n",
       "\n",
       "\tInputWidgets.commInitializer(this); // Initialize communication\n",
       "    }\n",
       "    Slider.prototype = Widget;\n",
       "\n",
       "    var Checkbox = function (typ, id, init) {\n",
       "\tvar attr = { type: \"checkbox\",\n",
       "\t\t     checked: init.value },\n",
       "\t    elem = createElem(\"input\", attr),\n",
       "\t    self = this;\n",
       "\n",
       "\tthis.getState = function () {\n",
       "\t    return elem.checked;\n",
       "\t}\n",
       "\telem.onchange = function () {\n",
       "\t    self.sendUpdate();\n",
       "\t}\n",
       "\n",
       "\tthis.id = id;\n",
       "\tthis.elem = elem;\n",
       "\tthis.label = init.label;\n",
       "\n",
       "\tInputWidgets.commInitializer(this);\n",
       "    }\n",
       "    Checkbox.prototype = Widget;\n",
       "\n",
       "    var Button = function (typ, id, init) {\n",
       "\tvar attr = { type:    \"button\",\n",
       "\t\t     value:   init.label },\n",
       "\t    elem = createElem(\"input\", attr),\n",
       "\t    self = this;\n",
       "\tthis.getState = function () {\n",
       "\t    return null;\n",
       "\t}\n",
       "\telem.onclick = function () {\n",
       "\t    self.sendUpdate();\n",
       "\t}\n",
       "\n",
       "\tthis.id = id;\n",
       "\tthis.elem = elem;\n",
       "\tthis.label = init.label;\n",
       "\n",
       "\tInputWidgets.commInitializer(this);\n",
       "    }\n",
       "    Button.prototype = Widget;\n",
       "\n",
       "    var Text = function (typ, id, init) {\n",
       "\tvar attr = { type:  \"text\",\n",
       "\t\t     placeholder: init.label,\n",
       "\t\t     value: init.value },\n",
       "\t    elem = createElem(\"input\", attr),\n",
       "\t    self = this;\n",
       "\tthis.getState = function () {\n",
       "\t    return elem.value;\n",
       "\t}\n",
       "\telem.onkeyup = function () {\n",
       "\t    self.sendUpdate();\n",
       "\t}\n",
       "\n",
       "\tthis.id = id;\n",
       "\tthis.elem = elem;\n",
       "\tthis.label = init.label;\n",
       "\n",
       "\tInputWidgets.commInitializer(this);\n",
       "    }\n",
       "    Text.prototype = Widget;\n",
       "\n",
       "    var Textarea = function (typ, id, init) {\n",
       "\tvar attr = { placeholder: init.label },\n",
       "\t    elem = createElem(\"textarea\", attr, init.value),\n",
       "\t    self = this;\n",
       "\tthis.getState = function () {\n",
       "\t    return elem.value;\n",
       "\t}\n",
       "\telem.onchange = function () {\n",
       "\t    self.sendUpdate();\n",
       "\t}\n",
       "\n",
       "\tthis.id = id;\n",
       "\tthis.elem = elem;\n",
       "\tthis.label = init.label;\n",
       "\n",
       "\tInputWidgets.commInitializer(this);\n",
       "    }\n",
       "    Textarea.prototype = Widget;\n",
       "\n",
       "    // RadioButtons\n",
       "    // Dropdown\n",
       "    // HTML\n",
       "    // Latex\n",
       "\n",
       "    var InputWidgets = {\n",
       "\tSlider: Slider,\n",
       "\tCheckbox: Checkbox,\n",
       "\tButton: Button,\n",
       "\tText: Text,\n",
       "\tTextarea: Textarea,\n",
       "\tdebug: false,\n",
       "\tlog: function () {\n",
       "\t    if (InputWidgets.debug) {\n",
       "\t\tconsole.log.apply(console, arguments);\n",
       "\t    }\n",
       "\t},\n",
       "\t// a central way to initalize communication\n",
       "\t// for widgets.\n",
       "\tcommInitializer: function (widget) {\n",
       "\t    widget.sendUpdate = function () {};\n",
       "\t}\n",
       "    };\n",
       "\n",
       "    window.InputWidgets = InputWidgets;\n",
       "\n",
       "})(jQuery, undefined);\n",
       "</script>"
      ]
     },
     "metadata": {},
     "output_type": "display_data"
    },
    {
     "data": {
      "text/html": [
       "<script charset=\"utf-8\">(function (IPython, $, _, MathJax, Widgets) {\n",
       "    $.event.special.destroyed = {\n",
       "\tremove: function(o) {\n",
       "\t    if (o.handler) {\n",
       "\t\to.handler.apply(this, arguments)\n",
       "\t    }\n",
       "\t}\n",
       "    }\n",
       "\n",
       "    var redrawValue = function (container, type, val) {\n",
       "\tvar selector = $(\"<div/>\");\n",
       "\tvar oa = new IPython.OutputArea(_.extend(selector, {\n",
       "\t    selector: selector,\n",
       "\t    prompt_area: true,\n",
       "\t    events: IPython.events,\n",
       "\t    keyboard_manager: IPython.keyboard_manager\n",
       "\t})); // Hack to work with IPython 2.1.0\n",
       "\n",
       "\tswitch (type) {\n",
       "\tcase \"image/png\":\n",
       "            var _src = 'data:' + type + ';base64,' + val;\n",
       "\t    $(container).find(\"img\").attr('src', _src);\n",
       "\t    break;\n",
       "\tdefault:\n",
       "\t    var toinsert = IPython.OutputArea.append_map[type].apply(\n",
       "\t\toa, [val, {}, selector]\n",
       "\t    );\n",
       "\t    $(container).empty().append(toinsert.contents());\n",
       "\t    selector.remove();\n",
       "\t}\n",
       "\tif (type === \"text/latex\" && MathJax) {\n",
       "\t    MathJax.Hub.Queue([\"Typeset\", MathJax.Hub, toinsert.get(0)]);\n",
       "\t}\n",
       "    }\n",
       "\n",
       "\n",
       "    $(document).ready(function() {\n",
       "\tWidgets.debug = false; // log messages etc in console.\n",
       "\tfunction initComm(evt, data) {\n",
       "\t    var comm_manager = data.kernel.comm_manager;\n",
       "        //_.extend(comm_manager.targets, require(\"widgets/js/widget\"))\n",
       "\t    comm_manager.register_target(\"Signal\", function (comm) {\n",
       "            comm.on_msg(function (msg) {\n",
       "                //Widgets.log(\"message received\", msg);\n",
       "                var val = msg.content.data.value;\n",
       "                $(\".signal-\" + comm.comm_id).each(function() {\n",
       "                var type = $(this).data(\"type\");\n",
       "                if (val[type]) {\n",
       "                    redrawValue(this, type, val[type], type);\n",
       "                }\n",
       "                });\n",
       "                delete val;\n",
       "                delete msg.content.data.value;\n",
       "            });\n",
       "\t    });\n",
       "\n",
       "\t    // coordingate with Comm and redraw Signals\n",
       "\t    // XXX: Test using Reactive here to improve performance\n",
       "\t    $([IPython.events]).on(\n",
       "\t\t'output_appended.OutputArea', function (event, type, value, md, toinsert) {\n",
       "\t\t    if (md && md.reactive) {\n",
       "                // console.log(md.comm_id);\n",
       "                toinsert.addClass(\"signal-\" + md.comm_id);\n",
       "                toinsert.data(\"type\", type);\n",
       "                // Signal back indicating the mimetype required\n",
       "                var comm_manager = IPython.notebook.kernel.comm_manager;\n",
       "                var comm = comm_manager.comms[md.comm_id];\n",
       "                comm.then(function (c) {\n",
       "                    c.send({action: \"subscribe_mime\",\n",
       "                       mime: type});\n",
       "                    toinsert.bind(\"destroyed\", function() {\n",
       "                        c.send({action: \"unsubscribe_mime\",\n",
       "                               mime: type});\n",
       "                    });\n",
       "                })\n",
       "\t\t    }\n",
       "\t    });\n",
       "\t}\n",
       "\n",
       "\ttry {\n",
       "\t    // try to initialize right away. otherwise, wait on the status_started event.\n",
       "\t    initComm(undefined, IPython.notebook);\n",
       "\t} catch (e) {\n",
       "\t    $([IPython.events]).on('status_started.Kernel', initComm);\n",
       "\t}\n",
       "    });\n",
       "})(IPython, jQuery, _, MathJax, InputWidgets);\n",
       "</script>"
      ]
     },
     "metadata": {},
     "output_type": "display_data"
    }
   ],
   "source": [
    "using Reactive, Interact"
   ]
  },
  {
   "cell_type": "code",
   "execution_count": 2,
   "metadata": {
    "collapsed": true
   },
   "outputs": [],
   "source": [
    "using PyPlot"
   ]
  },
  {
   "cell_type": "code",
   "execution_count": 3,
   "metadata": {
    "collapsed": true
   },
   "outputs": [],
   "source": [
    "# matplotlib parameters\n",
    "matplotlib[\"rcParams\"][:update]([\"axes.labelsize\" => 22,\n",
    "                                 \"axes.titlesize\" => 20,\n",
    "                                 \"font.size\" => 18,\n",
    "                                 \"legend.fontsize\" => 14,\n",
    "                                 \"axes.linewidth\" => 1.5,\n",
    "                                 \"font.family\" => \"serif\",\n",
    "                                 \"font.serif\" => \"Computer Modern Roman\",\n",
    "                                 \"xtick.labelsize\" => 20,\n",
    "                                 \"xtick.major.size\" => 5.5,\n",
    "                                 \"xtick.major.width\" => 1.5,\n",
    "                                 \"ytick.labelsize\" => 20,\n",
    "                                 \"ytick.major.size\" => 5.5,\n",
    "                                 \"ytick.major.width\" => 1.5,\n",
    "                                 \"text.usetex\" => true,\n",
    "                                 \"figure.autolayout\" => true])"
   ]
  },
  {
   "cell_type": "code",
   "execution_count": 4,
   "metadata": {
    "collapsed": false
   },
   "outputs": [],
   "source": [
    "import BP"
   ]
  },
  {
   "cell_type": "code",
   "execution_count": 5,
   "metadata": {
    "collapsed": false
   },
   "outputs": [],
   "source": [
    "#reload(\"BP\")"
   ]
  },
  {
   "cell_type": "code",
   "execution_count": null,
   "metadata": {
    "collapsed": true
   },
   "outputs": [],
   "source": [
    "#g = gcd(sp,sq)\n",
    "#p = div(sp,g)\n",
    "#q = div(sq,g)"
   ]
  },
  {
   "cell_type": "code",
   "execution_count": 6,
   "metadata": {
    "collapsed": false
   },
   "outputs": [
    {
     "data": {
      "text/plain": [
       "gausspmp (generic function with 1 method)"
      ]
     },
     "execution_count": 6,
     "metadata": {},
     "output_type": "execute_result"
    }
   ],
   "source": [
    "δpmp(n₀::Int,m₀::Int) = BP.δpmp(45; n0=n₀, m0=m₀)\n",
    "gausspmp(n₀::Int,m₀::Int) = BP.gausspmp(45; σ=1., n0=n₀, m0=m₀)\n",
    "homopmp() = BP.homopmp(N)\n",
    "randpmp(s::Uint) = BP.randpmp(N; seed=s) #1234"
   ]
  },
  {
   "cell_type": "code",
   "execution_count": 7,
   "metadata": {
    "collapsed": false
   },
   "outputs": [
    {
     "name": "stdout",
     "output_type": "stream",
     "text": [
      "elapsed time: 29.135320724 seconds (3131181092 bytes allocated, 9.12% gc time)\n"
     ]
    }
   ],
   "source": [
    "const ν = linspace(-3.45,-2.47,981);\n",
    "const P = gausspmp(5,5);\n",
    "@time sp = BP.Spectrum(ν,P, :landau, 1/11,0.001,0.02);"
   ]
  },
  {
   "cell_type": "code",
   "execution_count": 8,
   "metadata": {
    "collapsed": false
   },
   "outputs": [],
   "source": [
    "#full plot range, both in x and y\n",
    "const xm = [-div(sp.N-1,2):div(sp.N-1,2)]\n",
    "\n",
    "#zoom in :)\n",
    "const edge = 10\n",
    "const st = findin(xm, -edge)[1]\n",
    "const en = findin(xm, edge)[1];"
   ]
  },
  {
   "cell_type": "code",
   "execution_count": 9,
   "metadata": {
    "collapsed": false
   },
   "outputs": [
    {
     "data": {
      "image/png": "[encoded data removed]",
      "text/plain": [
       "Figure(PyObject <matplotlib.figure.Figure object at 0x7fd0e00cc0b8>)"
      ]
     },
     "metadata": {},
     "output_type": "display_data"
    }
   ],
   "source": [
    "f, ax = plt.subplots(figsize=(3.5, 3.5))\n",
    "im = ax[:imshow](reshape(abs2(P), sp.N,sp.N)[st:en,st:en], origin=\"upper\", ColorMap(\"gist_heat_r\"), interpolation=\"none\",\n",
    "                 extent=[-edge, edge, -edge, edge],\n",
    "                 vmin=0, vmax=1)\n",
    "\n",
    "ax[:set_ylabel](L\"$n$\", labelpad=-10)\n",
    "ax[:set_xlabel](L\"$m$\", labelpad=-6)\n",
    "    \n",
    "cbaxes = f[:add_axes]([0.25, 0.08, 0.65, 0.015])\n",
    "cbar = f[:colorbar](im, cax=cbaxes, orientation=\"horizontal\")\n",
    "cbar[:set_ticks]([0, 1])\n",
    "cbar[:set_ticklabels]([L\"$0$\", L\"$1$\"])\n",
    "cbar[:set_label](L\"$|f_{m,n}|^2$\", rotation=0, labelpad=-15, y=0.5)\n",
    "cbar[:solids][:set_edgecolor](\"face\")"
   ]
  },
  {
   "cell_type": "code",
   "execution_count": 10,
   "metadata": {
    "collapsed": false
   },
   "outputs": [
    {
     "data": {
      "text/html": [],
      "text/plain": [
       "Slider{Float64}([Input{Float64}] -2.96,\"ω\",-2.96,-3.45:0.002:-2.47)"
      ]
     },
     "execution_count": 10,
     "metadata": {},
     "output_type": "execute_result"
    }
   ],
   "source": [
    "sω = slider(ν[1]:0.002:ν[end], label=\"ω\")"
   ]
  },
  {
   "cell_type": "code",
   "execution_count": 11,
   "metadata": {
    "collapsed": false
   },
   "outputs": [
    {
     "data": {
      "image/png": "[encoded data removed]",
      "text/plain": [
       "Figure(PyObject <matplotlib.figure.Figure object at 0x7fd0fbd91198>)"
      ]
     },
     "execution_count": 11,
     "metadata": {
      "comm_id": "53b68732-0576-422d-86f7-9ec265c2dc1d",
      "reactive": true
     },
     "output_type": "execute_result"
    }
   ],
   "source": [
    "#plot spectrum\n",
    "f1, ax1 = plt.subplots(figsize=(10, 4))\n",
    "lift(ω -> withfig(()->begin\n",
    "    ax1[:cla]()\n",
    "    ax1[:plot](sp.νs,sp.intensity,\"k\") \n",
    "    ax1[:axvline](x=ω,color=\"k\",ls=\"dashed\")\n",
    "    ax1[:set_xlim](sp.νs[1],sp.νs[end])\n",
    "    ax1[:set_xlabel](L\"$\\omega_0 [J]$\")\n",
    "    ax1[:set_ylabel](L\"$\\sum_{m,n} |a_{m,n}|^2$ [a.u.]\")\n",
    "    end,f1,clear=false), sω)"
   ]
  },
  {
   "cell_type": "code",
   "execution_count": 12,
   "metadata": {
    "collapsed": false
   },
   "outputs": [
    {
     "data": {
      "text/html": [],
      "text/plain": [
       "Slider{Float64}([Input{Float64}] -2.96,\"ω\",-2.96,-3.45:0.002:-2.47)"
      ]
     },
     "metadata": {},
     "output_type": "display_data"
    }
   ],
   "source": [
    "display(sω)"
   ]
  },
  {
   "cell_type": "code",
   "execution_count": 13,
   "metadata": {
    "collapsed": false,
    "scrolled": true
   },
   "outputs": [
    {
     "data": {
      "image/png": "[encoded data removed]",
      "text/plain": [
       "Figure(PyObject <matplotlib.figure.Figure object at 0x7fd0f8d92fd0>)"
      ]
     },
     "execution_count": 13,
     "metadata": {
      "comm_id": "b0716190-b172-43f4-8792-869b0cc0010b",
      "reactive": true
     },
     "output_type": "execute_result"
    }
   ],
   "source": [
    "#plot w.f. in real space\n",
    "f2, axes = plt.subplots(1,2, figsize=(10, 5))\n",
    "lift(ω -> withfig(()->begin\n",
    "    axes[1][:cla]()\n",
    "    axes[2][:cla]()\n",
    "    axes[1][:imshow](abs2(reshape(BP.getstate(sp, ω), sp.N,sp.N))[st:en,st:en],\n",
    "                     origin=\"upper\", ColorMap(\"gist_heat_r\"), interpolation=\"none\",\n",
    "                     extent=[-edge, edge, -edge, edge])\n",
    "    axes[2][:imshow](angle(reshape(BP.getstate(sp, ω), sp.N,sp.N))[st:en,st:en],\n",
    "                     origin=\"upper\", ColorMap(\"gist_heat_r\"), interpolation=\"none\",\n",
    "                     extent=[-edge, edge, -edge, edge])\n",
    "    for ax in axes\n",
    "        ax[:set_xlabel](L\"$m$\")\n",
    "        ax[:set_ylabel](L\"$n$\")\n",
    "        ax[:set_xticks]([-10,0, 10])\n",
    "        ax[:set_yticks]([-10,0, 10])\n",
    "    end\n",
    "    end,f2,clear=false), sω)"
   ]
  },
  {
   "cell_type": "code",
   "execution_count": 14,
   "metadata": {
    "collapsed": false
   },
   "outputs": [
    {
     "data": {
      "text/html": [],
      "text/plain": [
       "Slider{Float64}([Input{Float64}] -2.96,\"ω\",-2.96,-3.45:0.002:-2.47)"
      ]
     },
     "metadata": {},
     "output_type": "display_data"
    }
   ],
   "source": [
    "display(sω)"
   ]
  },
  {
   "cell_type": "code",
   "execution_count": 15,
   "metadata": {
    "collapsed": false
   },
   "outputs": [],
   "source": [
    "k = linspace(-π, π, 50);"
   ]
  },
  {
   "cell_type": "code",
   "execution_count": 16,
   "metadata": {
    "collapsed": false
   },
   "outputs": [
    {
     "data": {
      "image/png": "[encoded data removed]",
      "text/plain": [
       "Figure(PyObject <matplotlib.figure.Figure object at 0x7fd0fbcb4128>)"
      ]
     },
     "execution_count": 16,
     "metadata": {
      "comm_id": "d6a895d4-64de-40c1-894a-d7a695be8178",
      "reactive": true
     },
     "output_type": "execute_result"
    }
   ],
   "source": [
    "#plot w.f. in mom space\n",
    "f3, ax3 = plt.subplots(figsize=(5, 5))\n",
    "lift(ω -> withfig(()->begin\n",
    "    ax3[:cla]()\n",
    "    ax3[:imshow](abs2(BP.myfft2(reshape(BP.getstate(sp, ω), sp.N,sp.N), k,k)),\n",
    "                     origin=\"upper\", ColorMap(\"gist_heat_r\"), interpolation=\"none\",\n",
    "                     extent=[-π, π, -π, π])\n",
    "    ax3[:set_xticks]([-π,0,π])\n",
    "    ax3[:set_yticks]([-π,0,π])\n",
    "    ax3[:set_xticklabels]([L\"$-\\pi$\",L\"$0$\",L\"$\\pi$\"])\n",
    "    ax3[:set_yticklabels]([L\"$-\\pi$\",L\"$0$\",L\"$\\pi$\"])\n",
    "    ax3[:set_xlabel](L\"$p_x$\")\n",
    "    ax3[:set_ylabel](L\"$p_y$\")\n",
    "    end,f3,clear=false), sω)"
   ]
  },
  {
   "cell_type": "code",
   "execution_count": null,
   "metadata": {
    "collapsed": true
   },
   "outputs": [],
   "source": []
  },
  {
   "cell_type": "code",
   "execution_count": 17,
   "metadata": {
    "collapsed": true
   },
   "outputs": [],
   "source": [
    "## function extractpath(l1::Int,l2::Int,c1::Int,c2::Int, M::Matrix{Float64})\n",
    "##     path=Float64[]\n",
    "##     append!(path, M[l1:l2,c1])\n",
    "##     append!(path, vec(M[l2,c1:c2])[2:end])\n",
    "##     append!(path, M[l2:-1:l1,c2][2:end])\n",
    "##     append!(path, vec(M[l1,c2:-1:c1])[2:end-1])\n",
    "##     path\n",
    "## end"
   ]
  }
 ],
 "metadata": {
  "kernelspec": {
   "display_name": "Julia 0.3.8-pre",
   "language": "julia",
   "name": "julia 0.3"
  },
  "language_info": {
   "name": "julia",
   "version": "0.3.8"
  }
 },
 "nbformat": 4,
 "nbformat_minor": 0
}
