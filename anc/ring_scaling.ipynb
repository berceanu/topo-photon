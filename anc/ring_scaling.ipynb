{
 "cells": [
  {
   "cell_type": "code",
   "execution_count": 1,
   "metadata": {
    "collapsed": true
   },
   "outputs": [],
   "source": [
    "using DSP"
   ]
  },
  {
   "cell_type": "code",
   "execution_count": 2,
   "metadata": {
    "collapsed": true
   },
   "outputs": [],
   "source": [
    "using LsqFit"
   ]
  },
  {
   "cell_type": "code",
   "execution_count": 3,
   "metadata": {
    "collapsed": true
   },
   "outputs": [],
   "source": [
    "using PyPlot"
   ]
  },
  {
   "cell_type": "code",
   "execution_count": 4,
   "metadata": {
    "collapsed": true
   },
   "outputs": [],
   "source": [
    "# matplotlib parameters\n",
    "matplotlib[\"rcParams\"][:update]([\"axes.labelsize\" => 22,\n",
    "                                 \"axes.titlesize\" => 20,\n",
    "                                 \"font.size\" => 18,\n",
    "                                 \"legend.fontsize\" => 14,\n",
    "                                 \"axes.linewidth\" => 1.5,\n",
    "                                 \"font.family\" => \"serif\",\n",
    "                                 \"font.serif\" => \"Computer Modern Roman\",\n",
    "                                 \"xtick.labelsize\" => 20,\n",
    "                                 \"xtick.major.size\" => 5.5,\n",
    "                                 \"xtick.major.width\" => 1.5,\n",
    "                                 \"ytick.labelsize\" => 20,\n",
    "                                 \"ytick.major.size\" => 5.5,\n",
    "                                 \"ytick.major.width\" => 1.5,\n",
    "                                 \"text.usetex\" => true,\n",
    "                                 \"figure.autolayout\" => true])"
   ]
  },
  {
   "cell_type": "code",
   "execution_count": 5,
   "metadata": {
    "collapsed": false
   },
   "outputs": [],
   "source": [
    "import BP"
   ]
  },
  {
   "cell_type": "code",
   "execution_count": 6,
   "metadata": {
    "collapsed": false
   },
   "outputs": [],
   "source": [
    "exdef = BP.ExactStates(100, :symmetric, 45, 1/7, 0.06);"
   ]
  },
  {
   "cell_type": "code",
   "execution_count": 7,
   "metadata": {
    "collapsed": false
   },
   "outputs": [],
   "source": [
    "#full plot range, both in x and y\n",
    "const xm = [-div(exdef.N-1,2):div(exdef.N-1,2)];"
   ]
  },
  {
   "cell_type": "code",
   "execution_count": 8,
   "metadata": {
    "collapsed": true
   },
   "outputs": [],
   "source": [
    "β=5;"
   ]
  },
  {
   "cell_type": "code",
   "execution_count": 9,
   "metadata": {
    "collapsed": false
   },
   "outputs": [
    {
     "data": {
      "image/png": "[encoded data removed]",
      "text/plain": [
       "Figure(PyObject <matplotlib.figure.Figure object at 0x7f32e821b048>)"
      ]
     },
     "metadata": {},
     "output_type": "display_data"
    }
   ],
   "source": [
    "f, ax = plt.subplots(figsize=(10, 4))\n",
    "\n",
    "ax[:axvline](x = exdef.νs[β+1], color=\"black\", ls=\"dashed\", linewidth=\"3\")\n",
    "\n",
    "for ω in exdef.νs\n",
    "    ax[:axvline](x = ω, color=\"orange\")\n",
    "end \n",
    "\n",
    "ax[:set_xlim](exdef.νs[1] - 0.03, exdef.νs[end] + 0.03)\n",
    "\n",
    "plt.close(f)"
   ]
  },
  {
   "cell_type": "code",
   "execution_count": 10,
   "metadata": {
    "collapsed": false
   },
   "outputs": [],
   "source": [
    "state = BP.getstate(exdef, β+1);"
   ]
  },
  {
   "cell_type": "code",
   "execution_count": 11,
   "metadata": {
    "collapsed": false
   },
   "outputs": [
    {
     "data": {
      "image/png": "[encoded data removed]",
      "text/plain": [
       "Figure(PyObject <matplotlib.figure.Figure object at 0x7f32dd3bc1d0>)"
      ]
     },
     "metadata": {},
     "output_type": "display_data"
    }
   ],
   "source": [
    "f, ax = plt.subplots(figsize=(5, 5))\n",
    "img = ax[:imshow](abs2(state), origin=\"upper\", ColorMap(\"gist_heat_r\"), interpolation=\"none\",\n",
    "                 extent=[xm[1], xm[end], xm[1], xm[end]],\n",
    "                 vmin=0, vmax=0.02)\n",
    "\n",
    "ax[:set_ylabel](L\"$n$\", labelpad=-10)\n",
    "ax[:set_xlabel](L\"$m$\", labelpad=-6)\n",
    "    \n",
    "cbaxes = f[:add_axes]([0.25, 0.03, 0.65, 0.015])\n",
    "cbar = f[:colorbar](img, cax=cbaxes, orientation=\"horizontal\")\n",
    "cbar[:set_ticks]([0, 0.02])\n",
    "cbar[:set_ticklabels]([L\"$0$\", L\"$0.02$\"])\n",
    "cbar[:set_label](L\"$|\\psi_{m,n}|^2$\", rotation=0, labelpad=-5, y=0.5)\n",
    "cbar[:solids][:set_edgecolor](\"face\")\n",
    "\n",
    "plt.close(f)"
   ]
  },
  {
   "cell_type": "code",
   "execution_count": 12,
   "metadata": {
    "collapsed": false
   },
   "outputs": [
    {
     "data": {
      "text/plain": [
       "Dict{(Int64,Float64),Array{Int64,1}} with 4 entries:\n",
       "  (11,0.02) => [3,4,7,10,13,18,24,30,38]\n",
       "  (7,0.02)  => [3,6,10,15,20,28,35,42,52]\n",
       "  (15,0.02) => [3,5,8,10,14,19,27,35,45]\n",
       "  (7,0.06)  => [3,4,7,12,15,21]"
      ]
     },
     "execution_count": 12,
     "metadata": {},
     "output_type": "execute_result"
    }
   ],
   "source": [
    "βs = Dict([((7, 0.02), [3, 6, 10, 15, 20, 28, 35, 42, 52]), ((11, 0.02), [3, 4, 7, 10, 13, 18, 24, 30, 38]),\n",
    "    ((15, 0.02), [3, 5, 8, 10, 14, 19, 27, 35, 45]), ((7, 0.06), [3, 4, 7, 12, 15, 21])])"
   ]
  },
  {
   "cell_type": "code",
   "execution_count": 13,
   "metadata": {
    "collapsed": true
   },
   "outputs": [],
   "source": [
    "#radii = Array(Int, 6);"
   ]
  },
  {
   "cell_type": "code",
   "execution_count": 14,
   "metadata": {
    "collapsed": false
   },
   "outputs": [],
   "source": [
    "#for (j,β) in enumerate(βs[(7, 0.06)])\n",
    "#    state = BP.getstate(exdef, β+1)\n",
    "#    radii[j] = BP.radius(abs2(state), xm)\n",
    "#end"
   ]
  },
  {
   "cell_type": "code",
   "execution_count": 15,
   "metadata": {
    "collapsed": false
   },
   "outputs": [],
   "source": [
    "#plot(βs[(7, 0.06)], radii.^2, marker=\"o\")"
   ]
  },
  {
   "cell_type": "code",
   "execution_count": 16,
   "metadata": {
    "collapsed": false
   },
   "outputs": [],
   "source": [
    "radii = Array(Int, (9,2));"
   ]
  },
  {
   "cell_type": "code",
   "execution_count": 17,
   "metadata": {
    "collapsed": false
   },
   "outputs": [],
   "source": [
    "for (i,q) in enumerate([7,11])\n",
    "    exdef = BP.ExactStates(100, :symmetric, 45, 1/q, 0.02)\n",
    "    for (j,β) in enumerate(βs[(q, 0.02)])\n",
    "        state = BP.getstate(exdef, β+1)\n",
    "        radii[j,i] = BP.radius(abs2(state), xm)\n",
    "    end\n",
    "end"
   ]
  },
  {
   "cell_type": "code",
   "execution_count": 18,
   "metadata": {
    "collapsed": true
   },
   "outputs": [],
   "source": [
    "colors = [\"r\", \"g\"];\n",
    "markers = [\"s\", \"v\"];\n",
    "styles = [\"dashed\", \"dotted\"];"
   ]
  },
  {
   "cell_type": "code",
   "execution_count": 19,
   "metadata": {
    "collapsed": false
   },
   "outputs": [
    {
     "data": {
      "text/plain": [
       "model (generic function with 1 method)"
      ]
     },
     "execution_count": 19,
     "metadata": {},
     "output_type": "execute_result"
    }
   ],
   "source": [
    "model(x,p) = p[1] .* x"
   ]
  },
  {
   "cell_type": "code",
   "execution_count": 20,
   "metadata": {
    "collapsed": false
   },
   "outputs": [
    {
     "data": {
      "text/plain": [
       "2-element Array{Float64,1}:\n",
       " 2.34745\n",
       " 3.33343"
      ]
     },
     "execution_count": 20,
     "metadata": {},
     "output_type": "execute_result"
    }
   ],
   "source": [
    "as = [curve_fit(model, βs[(q, 0.02)], radii[:,i].^2, [1.]).param[1] for (i,q) in enumerate([7,11])]"
   ]
  },
  {
   "cell_type": "code",
   "execution_count": 66,
   "metadata": {
    "collapsed": false
   },
   "outputs": [
    {
     "data": {
      "text/plain": [
       "2.228169203286535"
      ]
     },
     "execution_count": 66,
     "metadata": {},
     "output_type": "execute_result"
    }
   ],
   "source": [
    "7/π"
   ]
  },
  {
   "cell_type": "code",
   "execution_count": 67,
   "metadata": {
    "collapsed": false
   },
   "outputs": [
    {
     "data": {
      "text/plain": [
       "3.5014087480216975"
      ]
     },
     "execution_count": 67,
     "metadata": {},
     "output_type": "execute_result"
    }
   ],
   "source": [
    "11/π"
   ]
  },
  {
   "cell_type": "code",
   "execution_count": 21,
   "metadata": {
    "collapsed": false
   },
   "outputs": [
    {
     "data": {
      "image/png": "[encoded data removed]",
      "text/plain": [
       "Figure(PyObject <matplotlib.figure.Figure object at 0x7f3301769e10>)"
      ]
     },
     "metadata": {},
     "output_type": "display_data"
    }
   ],
   "source": [
    "f, ax = plt.subplots(figsize=(10, 4))\n",
    "\n",
    "for (i,q) in enumerate([7,11])\n",
    "    ax[:scatter](βs[(q, 0.02)], radii[:,i].^2, c=colors[i], marker=markers[i], s=40, label=LaTeXString(string(\"\\$q=\",q,\"\\$\")))\n",
    "    ax[:plot](βs[(q, 0.02)], as[i] .* βs[(q, 0.02)], ls=styles[i], color=colors[i])\n",
    "end\n",
    "\n",
    "ax[:legend](loc=\"lower right\")\n",
    "\n",
    "\n",
    "\n",
    "ax[:set_xlim](0, 55)\n",
    "ax[:set_ylim](0, 140)\n",
    "\n",
    "ax[:set_xlabel](L\"$\\beta$\")\n",
    "ax[:set_ylabel](L\"$r^2$ \")\n",
    "\n",
    "#f[:savefig](\"../figures/ring_scaling_q.svg\", transparent=true, pad_inches=0.0, bbox_inches=\"tight\")\n",
    "\n",
    "plt.close(f)"
   ]
  },
  {
   "cell_type": "code",
   "execution_count": 29,
   "metadata": {
    "collapsed": false
   },
   "outputs": [],
   "source": [
    "βs = Dict([((7, 0.02), [3, 6, 10, 15, 20, 28]), ((7, 0.06), [3, 4, 7, 12, 15, 21])]);"
   ]
  },
  {
   "cell_type": "code",
   "execution_count": 30,
   "metadata": {
    "collapsed": false
   },
   "outputs": [],
   "source": [
    "radii = Array(Int, (6,2));"
   ]
  },
  {
   "cell_type": "code",
   "execution_count": 31,
   "metadata": {
    "collapsed": false
   },
   "outputs": [],
   "source": [
    "for (i,κ) in enumerate([0.02, 0.06])\n",
    "    exdef = BP.ExactStates(100, :symmetric, 45, 1/7, κ)\n",
    "    for (j,β) in enumerate(βs[(7, κ)])\n",
    "        state = BP.getstate(exdef, β+1)\n",
    "        radii[j,i] = BP.radius(abs2(state), xm)\n",
    "    end\n",
    "end"
   ]
  },
  {
   "cell_type": "code",
   "execution_count": 32,
   "metadata": {
    "collapsed": false
   },
   "outputs": [
    {
     "data": {
      "text/plain": [
       "2-element Array{Float64,1}:\n",
       " 2.3713 \n",
       " 2.29525"
      ]
     },
     "execution_count": 32,
     "metadata": {},
     "output_type": "execute_result"
    }
   ],
   "source": [
    "as = [curve_fit(model, βs[(7, κ)], radii[:,i].^2, [1.]).param[1] for (i,κ) in enumerate([0.02, 0.06])]"
   ]
  },
  {
   "cell_type": "code",
   "execution_count": 33,
   "metadata": {
    "collapsed": false
   },
   "outputs": [
    {
     "data": {
      "image/png": "[encoded data removed]",
      "text/plain": [
       "Figure(PyObject <matplotlib.figure.Figure object at 0x7f3301769710>)"
      ]
     },
     "metadata": {},
     "output_type": "display_data"
    }
   ],
   "source": [
    "f, ax = plt.subplots(figsize=(10, 4))\n",
    "\n",
    "for (i,κ) in enumerate([0.02, 0.06])\n",
    "    ax[:scatter](βs[(7, κ)], radii[:,i].^2, c=colors[i], marker=markers[i], s=40, label=LaTeXString(string(\"\\$\\\\kappa=\",κ,\"\\$\")))\n",
    "    ax[:plot](βs[(7, κ)], as[i] .* βs[(7, κ)], ls=styles[i], color=colors[i])\n",
    "end\n",
    "\n",
    "ax[:legend](loc=\"lower right\")\n",
    "\n",
    "\n",
    "\n",
    "ax[:set_xlim](0, 30)\n",
    "ax[:set_ylim](0, 70)\n",
    "\n",
    "ax[:set_xlabel](L\"$\\beta$\")\n",
    "ax[:set_ylabel](L\"$r^2$ \")\n",
    "\n",
    "#f[:savefig](\"../figures/ring_scaling_k.pdf\", transparent=true, pad_inches=0.0, bbox_inches=\"tight\")\n",
    "\n",
    "plt.close(f)"
   ]
  },
  {
   "cell_type": "markdown",
   "metadata": {
    "collapsed": true
   },
   "source": [
    "## Momentum space"
   ]
  },
  {
   "cell_type": "markdown",
   "metadata": {},
   "source": [
    "### relevant picture to test on"
   ]
  },
  {
   "cell_type": "code",
   "execution_count": 34,
   "metadata": {
    "collapsed": true
   },
   "outputs": [],
   "source": [
    "β=10;"
   ]
  },
  {
   "cell_type": "code",
   "execution_count": 35,
   "metadata": {
    "collapsed": false
   },
   "outputs": [],
   "source": [
    "state = BP.getstate(exdef, β+1);"
   ]
  },
  {
   "cell_type": "code",
   "execution_count": 36,
   "metadata": {
    "collapsed": false
   },
   "outputs": [
    {
     "data": {
      "text/plain": [
       "(5.376353810378493e-29,3.334803176763154)"
      ]
     },
     "execution_count": 36,
     "metadata": {},
     "output_type": "execute_result"
    }
   ],
   "source": [
    "extrema(abs2(fftshift(fft(state))))"
   ]
  },
  {
   "cell_type": "code",
   "execution_count": 37,
   "metadata": {
    "collapsed": false
   },
   "outputs": [
    {
     "data": {
      "image/png": "[encoded data removed]",
      "text/plain": [
       "Figure(PyObject <matplotlib.figure.Figure object at 0x7f32ddc19c50>)"
      ]
     },
     "metadata": {},
     "output_type": "display_data"
    }
   ],
   "source": [
    "f, ax = plt.subplots(figsize=(5, 5))\n",
    "\n",
    "img = ax[:imshow](abs2(fftshift(fft(state))),\n",
    "            origin=\"upper\", ColorMap(\"gist_heat_r\"), interpolation=\"none\",\n",
    "            extent=[-π, π, -π, π],\n",
    "            vmin=0, vmax=5)\n",
    "\n",
    "ax[:set_xticks]([-π,0,π])\n",
    "ax[:set_yticks]([-π,0,π])\n",
    "\n",
    "ax[:set_xticklabels]([L\"$-\\pi$\",L\"$0$\",L\"$\\pi$\"])\n",
    "ax[:set_yticklabels]([L\"$-\\pi$\",L\"$0$\",L\"$\\pi$\"])\n",
    "\n",
    "ax[:set_xlabel](L\"$p_x$\", labelpad=-4)\n",
    "ax[:set_ylabel](L\"$p_y$\", labelpad=-10)\n",
    "\n",
    "cbaxes = f[:add_axes]([0.25, 0.03, 0.65, 0.015])\n",
    "cbar = f[:colorbar](img, cax=cbaxes, orientation=\"horizontal\")\n",
    "cbar[:set_ticks]([0, 5])\n",
    "cbar[:set_label](L\"$|\\psi_{p_x,p_y}|^2$\", rotation=0, labelpad=-5, y=0.5)\n",
    "cbar[:solids][:set_edgecolor](\"face\")\n",
    "\n",
    "plt.close(f)"
   ]
  },
  {
   "cell_type": "markdown",
   "metadata": {},
   "source": [
    "### testing radius finding function"
   ]
  },
  {
   "cell_type": "code",
   "execution_count": 38,
   "metadata": {
    "collapsed": false
   },
   "outputs": [
    {
     "data": {
      "text/plain": [
       "2.234021442552742"
      ]
     },
     "execution_count": 38,
     "metadata": {},
     "output_type": "execute_result"
    }
   ],
   "source": [
    "km = [2π*fftshift(fftfreq(length(xm)))];\n",
    "BP.radius(abs2(fftshift(fft(state))), km)"
   ]
  },
  {
   "cell_type": "code",
   "execution_count": 39,
   "metadata": {
    "collapsed": true
   },
   "outputs": [],
   "source": [
    "# expected radius: ~π/2"
   ]
  },
  {
   "cell_type": "code",
   "execution_count": 40,
   "metadata": {
    "collapsed": false
   },
   "outputs": [],
   "source": [
    "#full plot range, both in x and y\n",
    "const xm = [-div(exdef.N-1,2):div(exdef.N-1,2)];"
   ]
  },
  {
   "cell_type": "code",
   "execution_count": 41,
   "metadata": {
    "collapsed": false
   },
   "outputs": [],
   "source": [
    "km = [2π*fftshift(fftfreq(length(xm)))];"
   ]
  },
  {
   "cell_type": "code",
   "execution_count": 42,
   "metadata": {
    "collapsed": false
   },
   "outputs": [],
   "source": [
    "βs = Dict([((7, 0.02), [3, 6, 10, 15, 20]), ((11, 0.02), [3, 4, 7, 10, 13]),\n",
    "    ((15, 0.02), [3, 5, 8, 10, 14, 19, 27, 35, 45]), ((7, 0.06), [3, 4, 7, 12, 15, 21])]);"
   ]
  },
  {
   "cell_type": "code",
   "execution_count": 43,
   "metadata": {
    "collapsed": true
   },
   "outputs": [],
   "source": [
    "radii = Array(Float64, (5,2));"
   ]
  },
  {
   "cell_type": "code",
   "execution_count": 44,
   "metadata": {
    "collapsed": false
   },
   "outputs": [],
   "source": [
    "for (i,q) in enumerate([7,11])\n",
    "    exdef = BP.ExactStates(100, :symmetric, 45, 1/q, 0.02)\n",
    "    for (j,β) in enumerate(βs[(q, 0.02)])\n",
    "        state = BP.getstate(exdef, β+1)\n",
    "        radii[j,i] = BP.radius(abs2(fftshift(fft(state))), km)\n",
    "    end\n",
    "end"
   ]
  },
  {
   "cell_type": "code",
   "execution_count": 45,
   "metadata": {
    "collapsed": true
   },
   "outputs": [],
   "source": [
    "colors = [\"r\", \"g\"];\n",
    "markers = [\"s\", \"v\"];\n",
    "styles = [\"dashed\", \"dotted\"];"
   ]
  },
  {
   "cell_type": "code",
   "execution_count": 46,
   "metadata": {
    "collapsed": false
   },
   "outputs": [
    {
     "data": {
      "text/plain": [
       "model (generic function with 1 method)"
      ]
     },
     "execution_count": 46,
     "metadata": {},
     "output_type": "execute_result"
    }
   ],
   "source": [
    "model(x,p) = p[1] .* x"
   ]
  },
  {
   "cell_type": "code",
   "execution_count": 47,
   "metadata": {
    "collapsed": false
   },
   "outputs": [
    {
     "data": {
      "text/plain": [
       "2-element Array{Float64,1}:\n",
       " 0.45184 \n",
       " 0.289363"
      ]
     },
     "execution_count": 47,
     "metadata": {},
     "output_type": "execute_result"
    }
   ],
   "source": [
    "as = [curve_fit(model, βs[(q, 0.02)], radii[:,i].^2, [1.]).param[1] for (i,q) in enumerate([7,11])]"
   ]
  },
  {
   "cell_type": "code",
   "execution_count": 64,
   "metadata": {
    "collapsed": false
   },
   "outputs": [
    {
     "data": {
      "text/plain": [
       "0.4487989505128276"
      ]
     },
     "execution_count": 64,
     "metadata": {},
     "output_type": "execute_result"
    }
   ],
   "source": [
    "π/7"
   ]
  },
  {
   "cell_type": "code",
   "execution_count": 65,
   "metadata": {
    "collapsed": false
   },
   "outputs": [
    {
     "data": {
      "text/plain": [
       "0.28559933214452665"
      ]
     },
     "execution_count": 65,
     "metadata": {},
     "output_type": "execute_result"
    }
   ],
   "source": [
    "π/11"
   ]
  },
  {
   "cell_type": "code",
   "execution_count": 48,
   "metadata": {
    "collapsed": false
   },
   "outputs": [
    {
     "data": {
      "image/png": "[encoded data removed]",
      "text/plain": [
       "Figure(PyObject <matplotlib.figure.Figure object at 0x7f32ddb1a5f8>)"
      ]
     },
     "metadata": {},
     "output_type": "display_data"
    }
   ],
   "source": [
    "f, ax = plt.subplots(figsize=(10, 4))\n",
    "\n",
    "for (i,q) in enumerate([7,11])\n",
    "    ax[:scatter](βs[(q, 0.02)], radii[:,i].^2, c=colors[i], marker=markers[i], s=40, label=LaTeXString(string(\"\\$q=\",q,\"\\$\")))\n",
    "    ax[:plot](βs[(q, 0.02)], as[i] .* βs[(q, 0.02)], ls=styles[i], color=colors[i])\n",
    "end\n",
    "\n",
    "ax[:legend](loc=\"lower right\")\n",
    "\n",
    "\n",
    "\n",
    "ax[:set_xlim](2, 21)\n",
    "ax[:set_ylim](0, 10)\n",
    "\n",
    "ax[:set_xlabel](L\"$\\beta$\")\n",
    "ax[:set_ylabel](L\"$p^2$ \")\n",
    "\n",
    "#f[:savefig](\"../figures/ring_scaling_q_mom.svg\", transparent=true, pad_inches=0.0, bbox_inches=\"tight\")\n",
    "\n",
    "plt.close(f)"
   ]
  }
 ],
 "metadata": {
  "kernelspec": {
   "display_name": "Julia 0.3.10-pre",
   "language": "julia",
   "name": "julia 0.3"
  },
  "language_info": {
   "name": "julia",
   "version": "0.3.10"
  }
 },
 "nbformat": 4,
 "nbformat_minor": 0
}
